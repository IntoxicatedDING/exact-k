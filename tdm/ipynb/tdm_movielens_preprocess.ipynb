{
 "cells": [
  {
   "cell_type": "code",
   "execution_count": 2,
   "metadata": {},
   "outputs": [],
   "source": [
    "import pandas as pd\n",
    "import numpy as np\n",
    "import matplotlib.pyplot as plt\n",
    "import seaborn as sns\n",
    "import random\n",
    "random.seed(2020)\n",
    "np.random.seed(2020)\n",
    "# from pandarallel import pandarallel\n",
    "# pandarallel.initialize(nb_workers=12, shm_size_mb=10000, progress_bar=True)\n",
    "%matplotlib inline\n",
    "data_path = '../datasets/rating.csv'\n",
    "movie_path = '../datasets/movie.csv'"
   ]
  },
  {
   "cell_type": "code",
   "execution_count": 3,
   "metadata": {},
   "outputs": [],
   "source": [
    "df_data = pd.read_csv(data_path, parse_dates=True)\n",
    "df_movie = pd.read_csv(movie_path)"
   ]
  },
  {
   "cell_type": "markdown",
   "metadata": {},
   "source": [
    "Randomly allocate a genre for each movie:"
   ]
  },
  {
   "cell_type": "code",
   "execution_count": 4,
   "metadata": {},
   "outputs": [],
   "source": [
    "df_movie.genres = df_movie.genres.apply(lambda x: random.choice(x.split('|')))\n",
    "df_data = df_data.merge(df_movie[['movieId', 'genres']], on='movieId', how='left')"
   ]
  },
  {
   "cell_type": "markdown",
   "metadata": {},
   "source": [
    "对时间戳排序："
   ]
  },
  {
   "cell_type": "code",
   "execution_count": 5,
   "metadata": {},
   "outputs": [],
   "source": [
    "df_data.timestamp = df_data.timestamp.apply(lambda x: pd.Timestamp(x))\n",
    "df_data.sort_values('timestamp', inplace=True)"
   ]
  },
  {
   "cell_type": "markdown",
   "metadata": {},
   "source": [
    "Filter samples:\n",
    "- filter samples with rating less than 4\n",
    "- filter users with iteractions less than 11"
   ]
  },
  {
   "cell_type": "code",
   "execution_count": 6,
   "metadata": {},
   "outputs": [],
   "source": [
    "df_data = df_data[df_data.rating >= 4]\n",
    "cnt = df_data.groupby('userId')['movieId'].count()\n",
    "user_id = cnt.index[cnt > 10]\n",
    "df_data = df_data[df_data.userId.isin(user_id)]"
   ]
  },
  {
   "cell_type": "code",
   "execution_count": 7,
   "metadata": {},
   "outputs": [],
   "source": [
    "def encode_category(df, col_name):\n",
    "    unique = df[col_name].unique()\n",
    "    df.loc[:, col_name] = df[col_name].map(dict(zip(unique, range(1, len(unique) + 1))))"
   ]
  },
  {
   "cell_type": "markdown",
   "metadata": {},
   "source": [
    "Encode the categorical features:"
   ]
  },
  {
   "cell_type": "code",
   "execution_count": 8,
   "metadata": {},
   "outputs": [],
   "source": [
    "encode_category(df_data, 'userId')\n",
    "encode_category(df_data, 'movieId')\n",
    "encode_category(df_data, 'genres')"
   ]
  },
  {
   "cell_type": "code",
   "execution_count": null,
   "metadata": {},
   "outputs": [],
   "source": [
    "# history = df_data.groupby(['userId', 'timestamp'])[['movieId']].agg(lambda x: list(x))\n",
    "# # max_len = df_data.groupby(['user_id', 'time_id'])['item_id'].agg(lambda x: len(x)).max()\n",
    "# history = history.reset_index().groupby(['userId']).agg({\n",
    "#     'timestamp': lambda x: list(x),\n",
    "#     'movieId': lambda x: list(x)\n",
    "# })\n",
    "# # valid_user = history.time_id.apply(lambda x: (np.max(x) == 8 and len(x) > 2))\n",
    "# # history = history[valid_user]\n",
    "# history = history.reset_index()\n",
    "# index = np.random.choice(len(history), 2000, replace=False)\n",
    "# val_index = index[:1000]\n",
    "# test_index = index[1000:]\n",
    "# history.loc[val_index, 'type'] = 'val'\n",
    "# history.loc[test_index, 'type'] = 'test'\n",
    "# history['type'].fillna('train', inplace=True)\n",
    "# history.to_pickle('../datasets/movielensHistory.pkl')"
   ]
  },
  {
   "cell_type": "markdown",
   "metadata": {},
   "source": [
    "Generate the initial item sequence:"
   ]
  },
  {
   "cell_type": "code",
   "execution_count": 9,
   "metadata": {},
   "outputs": [],
   "source": [
    "item = df_data[['movieId', 'genres']].drop_duplicates('movieId')\n",
    "item = item.groupby(['genres'])['movieId'].agg(lambda x: list(x))\n",
    "\n",
    "item_sorted = []\n",
    "for _, x in item.iteritems():\n",
    "    item_sorted += x\n",
    "\n",
    "np.save('../datasets/movieSorted.npy', item_sorted)"
   ]
  },
  {
   "cell_type": "markdown",
   "metadata": {},
   "source": [
    "Aggregate historical behaviour for each user:"
   ]
  },
  {
   "cell_type": "code",
   "execution_count": 10,
   "metadata": {},
   "outputs": [],
   "source": [
    "history = df_data.groupby(['userId'], as_index=False)[['movieId', 'timestamp']].agg(list)\n",
    "history = history.rename(columns={\n",
    "    'movieId': 'history'\n",
    "})\n",
    "index = np.random.choice(len(history), 2000, replace=False)\n",
    "val_index = index[:1000]\n",
    "test_index = index[1000:]\n",
    "history.loc[val_index, 'type'] = 'val'\n",
    "history.loc[test_index, 'type'] = 'test'\n",
    "history['type'].fillna('train', inplace=True)\n",
    "history.to_pickle('../datasets/movielensHistory.pkl')"
   ]
  },
  {
   "cell_type": "code",
   "execution_count": 1,
   "metadata": {},
   "outputs": [],
   "source": [
    "def build_time_window(t, hist, max_window_size=8, gap='30 day'):\n",
    "    t = np.array(t)\n",
    "    hist = np.array(hist)\n",
    "    delta = t[1:] - t[:-1]\n",
    "    is_gap = delta < pd.Timedelta(gap)\n",
    "    i = len(is_gap)\n",
    "    max_len = 0\n",
    "    history_window = []\n",
    "    while len(history_window) < max_window_size:\n",
    "        window = []\n",
    "        window.append(hist[i])\n",
    "        i -= 1\n",
    "        while i >= 0 and is_gap[i]:\n",
    "            window.append(hist[i])\n",
    "            i -= 1\n",
    "        history_window.append(window)\n",
    "        max_len = max(len(window), max_len)\n",
    "        if i < 0:\n",
    "            break\n",
    "    while len(history_window) < max_window_size:\n",
    "        history_window.append([0])\n",
    "\n",
    "    for i in range(len(history_window)):\n",
    "        history_window[i] += [0] * (max_len - len(history_window[i]))\n",
    "    return history_window, max_len"
   ]
  },
  {
   "cell_type": "code",
   "execution_count": 46,
   "metadata": {},
   "outputs": [],
   "source": [
    "# def generate_train_data(fname, data, seq_len=70, min_len=8):\n",
    "# #     with open(fname, 'w') as f:\n",
    "#     for _, row in data.iterrows():\n",
    "#         timestamp = row.timestamp\n",
    "#         items = row.history\n",
    "# #         arr_items = [0 for i in range(seq_len - min_len)] + list(items)\n",
    "# #         arr_timestamp = [0 for i in range(seq_len - min_len)] + list(timestamp)\n",
    "        \n",
    "#         for i in range(min_len, len(items)):\n",
    "#             sample = items[:i]\n",
    "#             label = sample[-1]\n",
    "#             sample = sample[:-1]\n",
    "#             hist = sample\n",
    "#             t = timestamp[:i][:-1]\n",
    "# #             break\n",
    "#         break\n",
    "#     return hist, t\n",
    "            "
   ]
  }
 ],
 "metadata": {
  "kernelspec": {
   "display_name": "Python 3",
   "language": "python",
   "name": "python3"
  },
  "language_info": {
   "codemirror_mode": {
    "name": "ipython",
    "version": 3
   },
   "file_extension": ".py",
   "mimetype": "text/x-python",
   "name": "python",
   "nbconvert_exporter": "python",
   "pygments_lexer": "ipython3",
   "version": "3.7.4"
  }
 },
 "nbformat": 4,
 "nbformat_minor": 2
}
